{
 "cells": [
  {
   "cell_type": "code",
   "execution_count": 1,
   "metadata": {},
   "outputs": [
    {
     "name": "stderr",
     "output_type": "stream",
     "text": [
      "C:\\ProgramData\\Anaconda3\\envs\\tensorflow\\lib\\site-packages\\h5py\\__init__.py:36: FutureWarning: Conversion of the second argument of issubdtype from `float` to `np.floating` is deprecated. In future, it will be treated as `np.float64 == np.dtype(float).type`.\n",
      "  from ._conv import register_converters as _register_converters\n"
     ]
    },
    {
     "name": "stdout",
     "output_type": "stream",
     "text": [
      "_________________________________________________________________\n",
      "Layer (type)                 Output Shape              Param #   \n",
      "=================================================================\n",
      "conv2d_1 (Conv2D)            (None, 24, 24, 75)        1950      \n",
      "_________________________________________________________________\n",
      "max_pooling2d_1 (MaxPooling2 (None, 12, 12, 75)        0         \n",
      "_________________________________________________________________\n",
      "dropout_1 (Dropout)          (None, 12, 12, 75)        0         \n",
      "_________________________________________________________________\n",
      "conv2d_2 (Conv2D)            (None, 8, 8, 100)         187600    \n",
      "_________________________________________________________________\n",
      "max_pooling2d_2 (MaxPooling2 (None, 4, 4, 100)         0         \n",
      "_________________________________________________________________\n",
      "dropout_2 (Dropout)          (None, 4, 4, 100)         0         \n",
      "_________________________________________________________________\n",
      "flatten_1 (Flatten)          (None, 1600)              0         \n",
      "_________________________________________________________________\n",
      "dense_1 (Dense)              (None, 500)               800500    \n",
      "_________________________________________________________________\n",
      "dropout_3 (Dropout)          (None, 500)               0         \n",
      "_________________________________________________________________\n",
      "dense_2 (Dense)              (None, 10)                5010      \n",
      "=================================================================\n",
      "Total params: 995,060\n",
      "Trainable params: 995,060\n",
      "Non-trainable params: 0\n",
      "_________________________________________________________________\n",
      "None\n"
     ]
    }
   ],
   "source": [
    "import tensorflow \n",
    "import numpy \n",
    "import scipy\n",
    "import tensorflow as tf\n",
    "from tensorflow.python.keras.models import Sequential \n",
    "from tensorflow.python.keras.layers import Dense, Dropout, Flatten,Conv2D, MaxPooling2D\n",
    "from tensorflow.python.keras.datasets import mnist \n",
    "from tensorflow.python.keras.preprocessing.image import ImageDataGenerator\n",
    "import os\n",
    "numpy.random.seed(42)\n",
    "\n",
    "(train_pic_data, train_answers), (test_pic_data, test_answers) = mnist.load_data()\n",
    "ir, ic = 28, 28 \n",
    "input_shape = (ir, ic, 1)\n",
    "train_pic_data = train_pic_data.reshape(train_pic_data.shape[0], ir, ic, 1) \n",
    "test_pic_data = test_pic_data.reshape(test_pic_data.shape[0], ir, ic, 1)\n",
    "# convert from int to float\n",
    "train_pic_data = train_pic_data.astype('float32')\n",
    "test_pic_data = test_pic_data.astype('float32')\n",
    "train_pic_data /= 255\n",
    "test_pic_data /= 255\n",
    "train_pic_answers = tf.keras.utils.to_categorical(train_answers, 10) #преобразуем в метки наши ответы\n",
    "test_pic_answers = tf.keras.utils.to_categorical(test_answers, 10)\n",
    "model = Sequential()\n",
    "model.add(Conv2D(75, kernel_size=(5, 5),\n",
    "                 activation='relu',\n",
    "                 input_shape=input_shape))\n",
    "model.add(MaxPooling2D(pool_size=(2, 2)))\n",
    "model.add(Dropout(0.2))\n",
    "model.add(Conv2D(100, (5, 5), activation='relu'))\n",
    "model.add(MaxPooling2D(pool_size=(2, 2)))\n",
    "model.add(Dropout(0.2))\n",
    "model.add(Flatten())\n",
    "model.add(Dense(500, activation='relu'))\n",
    "model.add(Dropout(0.5))\n",
    "model.add(Dense(10, activation='softmax'))\n",
    "\n",
    "print(model.summary())\n",
    "model.compile(loss=\"categorical_crossentropy\", optimizer=\"adam\", metrics=[\"accuracy\"])"
   ]
  },
  {
   "cell_type": "code",
   "execution_count": 2,
   "metadata": {},
   "outputs": [
    {
     "name": "stdout",
     "output_type": "stream",
     "text": [
      "Train on 60000 samples, validate on 10000 samples\n",
      "Epoch 1/10\n",
      " - 205s - loss: 0.2164 - acc: 0.9332 - val_loss: 0.0432 - val_acc: 0.9869\n",
      "Epoch 2/10\n",
      " - 203s - loss: 0.0593 - acc: 0.9819 - val_loss: 0.0371 - val_acc: 0.9880\n",
      "Epoch 3/10\n",
      " - 205s - loss: 0.0421 - acc: 0.9866 - val_loss: 0.0230 - val_acc: 0.9918\n",
      "Epoch 4/10\n",
      " - 204s - loss: 0.0326 - acc: 0.9895 - val_loss: 0.0188 - val_acc: 0.9940\n",
      "Epoch 5/10\n",
      " - 203s - loss: 0.0277 - acc: 0.9914 - val_loss: 0.0245 - val_acc: 0.9919\n",
      "Epoch 6/10\n",
      " - 203s - loss: 0.0235 - acc: 0.9923 - val_loss: 0.0165 - val_acc: 0.9943\n",
      "Epoch 7/10\n",
      " - 203s - loss: 0.0205 - acc: 0.9937 - val_loss: 0.0187 - val_acc: 0.9936\n",
      "Epoch 8/10\n",
      " - 202s - loss: 0.0178 - acc: 0.9944 - val_loss: 0.0172 - val_acc: 0.9938\n",
      "Epoch 9/10\n",
      " - 203s - loss: 0.0160 - acc: 0.9948 - val_loss: 0.0187 - val_acc: 0.9934\n",
      "Epoch 10/10\n",
      " - 203s - loss: 0.0158 - acc: 0.9945 - val_loss: 0.0225 - val_acc: 0.9937\n"
     ]
    }
   ],
   "source": [
    "history=model.fit(train_pic_data, train_pic_answers, validation_data=(test_pic_data, test_pic_answers), epochs=10, batch_size=200, verbose=2)"
   ]
  },
  {
   "cell_type": "code",
   "execution_count": 3,
   "metadata": {},
   "outputs": [
    {
     "name": "stdout",
     "output_type": "stream",
     "text": [
      "CNN accuracy: 99.37%\n"
     ]
    }
   ],
   "source": [
    "scores = model.evaluate(test_pic_data, test_pic_answers, verbose=0)\n",
    "print(\"CNN accuracy: %.2f%%\" % (scores[1]*100))"
   ]
  },
  {
   "cell_type": "code",
   "execution_count": 4,
   "metadata": {},
   "outputs": [],
   "source": [
    "save_json = model.to_json()\n",
    "file_json = open(\"model_CNN5.json\", \"w\")\n",
    "file_json.write(save_json)\n",
    "file_json.close()\n",
    "tf.keras.models.save_model(model,\"model_CNN5.h5\")"
   ]
  },
  {
   "cell_type": "code",
   "execution_count": 6,
   "metadata": {},
   "outputs": [
    {
     "data": {
      "image/png": "[encoded data removed]",
      "text/plain": [
       "<matplotlib.figure.Figure at 0x2a112710>"
      ]
     },
     "metadata": {},
     "output_type": "display_data"
    }
   ],
   "source": [
    "import matplotlib.pyplot as plt\n",
    "from tensorflow.python.keras.callbacks import History\n",
    "\n",
    "train_acc=history.history['acc']\n",
    "val_acc=history.history['val_acc']\n",
    "xc=range(10)\n",
    "\n",
    "plt.figure(2,figsize=(7,5))\n",
    "plt.plot(xc,train_acc)\n",
    "plt.plot(xc,val_acc)\n",
    "plt.xlabel('number of Epochs')\n",
    "plt.ylabel('accuracy')\n",
    "plt.title('train_acc vs val_acc')\n",
    "plt.grid(True)\n",
    "plt.legend(['train','val'],loc=4)\n",
    "#print plt.style.available # use bmh, classic,ggplot for big pictures\n",
    "plt.style.use(['classic'])"
   ]
  },
  {
   "cell_type": "code",
   "execution_count": 7,
   "metadata": {},
   "outputs": [
    {
     "name": "stdout",
     "output_type": "stream",
     "text": [
      "[[3.7718720e-10 7.9664105e-08 6.6813961e-08 ... 9.9999893e-01\n",
      "  5.9405447e-10 9.4501621e-07]\n",
      " [9.3733346e-12 1.6150155e-09 1.0000000e+00 ... 7.6015434e-14\n",
      "  4.0186593e-13 1.0560766e-13]\n",
      " [4.0382172e-08 9.9999821e-01 5.4078768e-08 ... 4.6497178e-07\n",
      "  3.1627744e-07 2.8574469e-08]\n",
      " ...\n",
      " [1.6202749e-18 6.0092287e-12 2.4572904e-15 ... 5.7769550e-13\n",
      "  1.8855081e-11 2.8214438e-11]\n",
      " [2.1669638e-11 6.8168587e-16 2.4095758e-17 ... 1.5749322e-15\n",
      "  2.1065551e-08 5.4555319e-12]\n",
      " [5.0202048e-10 4.7550994e-11 9.1405589e-10 ... 3.9353765e-15\n",
      "  1.3918958e-09 3.2447219e-13]]\n",
      "[7 2 1 ... 4 5 6]\n",
      "             precision    recall  f1-score   support\n",
      "\n",
      "          0       0.99      1.00      1.00       980\n",
      "          1       0.99      1.00      0.99      1135\n",
      "          2       0.99      1.00      0.99      1032\n",
      "          3       1.00      0.99      1.00      1010\n",
      "          4       1.00      1.00      1.00       982\n",
      "          5       1.00      0.99      0.99       892\n",
      "          6       1.00      0.99      0.99       958\n",
      "          7       1.00      0.97      0.99      1028\n",
      "          8       0.99      1.00      1.00       974\n",
      "          9       0.99      1.00      0.99      1009\n",
      "\n",
      "avg / total       0.99      0.99      0.99     10000\n",
      "\n",
      "[[ 977    1    0    0    0    0    0    0    1    1]\n",
      " [   0 1134    1    0    0    0    0    0    0    0]\n",
      " [   0    1 1030    0    0    0    0    0    1    0]\n",
      " [   0    0    1 1004    0    3    0    0    1    1]\n",
      " [   0    0    0    0  978    0    0    0    0    4]\n",
      " [   1    0    0    3    0  886    1    0    0    1]\n",
      " [   4    2    0    0    1    1  949    0    1    0]\n",
      " [   0   11    9    0    0    0    0 1002    1    5]\n",
      " [   0    0    1    1    0    0    0    0  971    1]\n",
      " [   0    0    0    0    3    0    0    0    0 1006]]\n"
     ]
    }
   ],
   "source": [
    "from sklearn.metrics import classification_report,confusion_matrix\n",
    "import numpy as np\n",
    "Y_pred = model.predict(test_pic_data)\n",
    "print(Y_pred)\n",
    "y_pred = np.argmax(Y_pred, axis=1)\n",
    "print(y_pred)\n",
    "\n",
    "target_names = ['0', '1', '2','3','4','5','6','7','8','9']\n",
    "print(classification_report(np.argmax(test_pic_answers,axis=1), y_pred,target_names=target_names))\n",
    "print(confusion_matrix(np.argmax(test_pic_answers,axis=1), y_pred))"
   ]
  },
  {
   "cell_type": "code",
   "execution_count": null,
   "metadata": {},
   "outputs": [],
   "source": []
  }
 ],
 "metadata": {
  "kernelspec": {
   "display_name": "Python 3",
   "language": "python",
   "name": "python3"
  },
  "language_info": {
   "codemirror_mode": {
    "name": "ipython",
    "version": 3
   },
   "file_extension": ".py",
   "mimetype": "text/x-python",
   "name": "python",
   "nbconvert_exporter": "python",
   "pygments_lexer": "ipython3",
   "version": "3.6.4"
  }
 },
 "nbformat": 4,
 "nbformat_minor": 2
}
